{
 "cells": [
  {
   "cell_type": "code",
   "execution_count": 1,
   "metadata": {},
   "outputs": [
    {
     "name": "stderr",
     "output_type": "stream",
     "text": [
      "Using TensorFlow backend.\n"
     ]
    },
    {
     "name": "stdout",
     "output_type": "stream",
     "text": [
      "load\n"
     ]
    }
   ],
   "source": [
    "from gensim.models import word2vec\n",
    "\n",
    "import os, sys\n",
    "\n",
    "from utils.pickle_helper import pickle_load, pickle_dump\n",
    "from utils.tokenizers import tokenizer\n",
    "\n",
    "DATASET_DIR = './novels'\n",
    "MODEL_PATH = './pickle_objects/aozora_w2v.pickle'\n",
    "MODEL_PATH2 = './pickle_objects/aozora_w2v.model'\n",
    "\n",
    "model = pickle_load(MODEL_PATH)\n",
    "model.save(MODEL_PATH2)\n",
    "print('load')"
   ]
  },
  {
   "cell_type": "code",
   "execution_count": 12,
   "metadata": {},
   "outputs": [
    {
     "name": "stdout",
     "output_type": "stream",
     "text": [
      "clustering\n",
      "KMeans(algorithm='auto', copy_x=True, init='k-means++', max_iter=300,\n",
      "    n_clusters=300, n_init=10, n_jobs=1, precompute_distances='auto',\n",
      "    random_state=None, tol=0.0001, verbose=0)\n"
     ]
    }
   ],
   "source": [
    "from sklearn.cluster import KMeans\n",
    "from gensim.models import word2vec\n",
    "import numpy as np\n",
    "\n",
    "import os, sys\n",
    "\n",
    "from utils.pickle_helper import pickle_load, pickle_dump\n",
    "from utils.tokenizers import tokenizer\n",
    "\n",
    "DATASET_DIR = './novels'\n",
    "MODEL_PATH = './pickle_objects/aozora_w2v.pickle'\n",
    "MODEL_PATH2 = './pickle_objects/aozora_w2v.model'\n",
    "\n",
    "\n",
    "w2vmodel = word2vec.Word2Vec.load(MODEL_PATH2)\n",
    "vocab = w2vmodel.wv.vocab.keys()\n",
    "words_array = []\n",
    "for word in vocab:\n",
    "    words_array.append(w2vmodel[word])\n",
    "print('clustering')\n",
    "words_array_np = np.array(words_array)\n",
    "kmeans_res = KMeans(n_clusters=300, max_iter=300).fit(words_array_np)\n",
    "print(kmeans_res)"
   ]
  },
  {
   "cell_type": "code",
   "execution_count": null,
   "metadata": {},
   "outputs": [],
   "source": [
    "tfidf_vec = pickle_load('pickle_objects/tf_idf_vec_sw.pickle')"
   ]
  },
  {
   "cell_type": "code",
   "execution_count": 18,
   "metadata": {},
   "outputs": [
    {
     "name": "stdout",
     "output_type": "stream",
     "text": [
      "writing total_bytes=599089...\n",
      "writing bytes [0, 599089)... done.\n"
     ]
    }
   ],
   "source": [
    "pickle_dump(kmeans_res, 'aozora_tfidf_word_kmeans.pickle')"
   ]
  },
  {
   "cell_type": "code",
   "execution_count": 16,
   "metadata": {},
   "outputs": [
    {
     "data": {
      "text/plain": [
       "(array([ 851., 1822.,  227.,  501.,  322.,  315.,  344.,  301.,  266.,\n",
       "         146.,  142.,  186.,  175.,  274.,  265.,  216.,  172.,  170.,\n",
       "         353.,  303.,   92.,  291.,  209.,  221., 1281.,  221.,  207.,\n",
       "         253.,  160.,  394.,  923.,  342.,  196.,  147.,  280.,  159.,\n",
       "         281.,  260.,  272.,  286.,  768.,  385.,  116.,  763.,  215.,\n",
       "         211.,  159.,  189.,  328.,  289.,  244.,  267.,  337., 1462.,\n",
       "         235., 1118.,  265.,  383.,  276.,  220.,  110.,  281., 1365.,\n",
       "         185.,  536.,  228.,  157.,  221.,  515.,  191.,  268.,  109.,\n",
       "         162.,  306.,  392.,  470., 1178.,  390.,  140.,  251.,  197.,\n",
       "          97.,  391.,  775.,  166.,  234., 3864.,  322.,  228.,  392.,\n",
       "         215.,  194.,  211.,  111.,  344.,  154.,  554.,  360.,  349.,\n",
       "         200.,  285.,  224.,  839., 2770., 1650.,  239.,  197.,  209.,\n",
       "         208.,  271.,  186.,  937.,  239.,  109.,  258.,  142.,  156.,\n",
       "         143.,  266., 1685.,  768.,  222.,  709.,  183.,  193.,  136.,\n",
       "        1038.,  282.,  318.,  261.,  351.,  312.,  120.,  290.,  151.,\n",
       "         133.,  260., 1023.,  160., 1605.,  331.,  211.,  401.,  175.,\n",
       "         252.,  157.,  541., 1576.,  447.,  450.,  284.,  171.,  746.,\n",
       "         398., 1114.,  278.,  194.,  363.,  256.,  235.,  187.,  461.,\n",
       "         126.,  243.,  405.,  267.,  133.,  210.,  180.,  185.,  260.,\n",
       "         200.,  318.,  190.,  653.,  121.,  138.,  315., 1406.,  177.,\n",
       "         824.,  241.,  257.,  147.,  456., 2421.,  335.,  259.,   66.,\n",
       "         266.,  197.,  584.,  254.,  415.,  189.,  212., 1153.,  605.,\n",
       "         277.,  216.,  289.,  196.,  189.,  235.,  160.,  234.,  255.,\n",
       "         169.,  173.,  367.,  241.,  628.,  287., 1599.,  170.,  215.,\n",
       "         270.,  219.,  167.,   84.,  220.,  208.,  202.,  909.,  220.,\n",
       "         302.,  200.,  243.,  238.,  494.,  361.,  264.,  240.,  653.,\n",
       "         340., 1696.,  185.,  302., 1086.,  211.,  160.,  234.,  255.,\n",
       "         584.,  289.,  103.,  103.,  213.,   90.,  487.,  397.,  227.,\n",
       "         295., 1578.,  646.,  216.,  127.,  219.,  655.,  238.,  260.,\n",
       "        1174.,  284.,  206.,  277.,  223.,  184.,  208., 1030.,  135.,\n",
       "         192.,  341.,  142.,  257.,  207.,  244., 1688.,  395.,  952.,\n",
       "         359.,  241.,  355.,  140.,  604.,  100., 1509.,  213.,  109.,\n",
       "         346.,  586.,  166.,  165.,  177.,  155.,  193.,  175.,  648.,\n",
       "         259.,  147.,  212.]),\n",
       " array([  0.        ,   0.99666667,   1.99333333,   2.99      ,\n",
       "          3.98666667,   4.98333333,   5.98      ,   6.97666667,\n",
       "          7.97333333,   8.97      ,   9.96666667,  10.96333333,\n",
       "         11.96      ,  12.95666667,  13.95333333,  14.95      ,\n",
       "         15.94666667,  16.94333333,  17.94      ,  18.93666667,\n",
       "         19.93333333,  20.93      ,  21.92666667,  22.92333333,\n",
       "         23.92      ,  24.91666667,  25.91333333,  26.91      ,\n",
       "         27.90666667,  28.90333333,  29.9       ,  30.89666667,\n",
       "         31.89333333,  32.89      ,  33.88666667,  34.88333333,\n",
       "         35.88      ,  36.87666667,  37.87333333,  38.87      ,\n",
       "         39.86666667,  40.86333333,  41.86      ,  42.85666667,\n",
       "         43.85333333,  44.85      ,  45.84666667,  46.84333333,\n",
       "         47.84      ,  48.83666667,  49.83333333,  50.83      ,\n",
       "         51.82666667,  52.82333333,  53.82      ,  54.81666667,\n",
       "         55.81333333,  56.81      ,  57.80666667,  58.80333333,\n",
       "         59.8       ,  60.79666667,  61.79333333,  62.79      ,\n",
       "         63.78666667,  64.78333333,  65.78      ,  66.77666667,\n",
       "         67.77333333,  68.77      ,  69.76666667,  70.76333333,\n",
       "         71.76      ,  72.75666667,  73.75333333,  74.75      ,\n",
       "         75.74666667,  76.74333333,  77.74      ,  78.73666667,\n",
       "         79.73333333,  80.73      ,  81.72666667,  82.72333333,\n",
       "         83.72      ,  84.71666667,  85.71333333,  86.71      ,\n",
       "         87.70666667,  88.70333333,  89.7       ,  90.69666667,\n",
       "         91.69333333,  92.69      ,  93.68666667,  94.68333333,\n",
       "         95.68      ,  96.67666667,  97.67333333,  98.67      ,\n",
       "         99.66666667, 100.66333333, 101.66      , 102.65666667,\n",
       "        103.65333333, 104.65      , 105.64666667, 106.64333333,\n",
       "        107.64      , 108.63666667, 109.63333333, 110.63      ,\n",
       "        111.62666667, 112.62333333, 113.62      , 114.61666667,\n",
       "        115.61333333, 116.61      , 117.60666667, 118.60333333,\n",
       "        119.6       , 120.59666667, 121.59333333, 122.59      ,\n",
       "        123.58666667, 124.58333333, 125.58      , 126.57666667,\n",
       "        127.57333333, 128.57      , 129.56666667, 130.56333333,\n",
       "        131.56      , 132.55666667, 133.55333333, 134.55      ,\n",
       "        135.54666667, 136.54333333, 137.54      , 138.53666667,\n",
       "        139.53333333, 140.53      , 141.52666667, 142.52333333,\n",
       "        143.52      , 144.51666667, 145.51333333, 146.51      ,\n",
       "        147.50666667, 148.50333333, 149.5       , 150.49666667,\n",
       "        151.49333333, 152.49      , 153.48666667, 154.48333333,\n",
       "        155.48      , 156.47666667, 157.47333333, 158.47      ,\n",
       "        159.46666667, 160.46333333, 161.46      , 162.45666667,\n",
       "        163.45333333, 164.45      , 165.44666667, 166.44333333,\n",
       "        167.44      , 168.43666667, 169.43333333, 170.43      ,\n",
       "        171.42666667, 172.42333333, 173.42      , 174.41666667,\n",
       "        175.41333333, 176.41      , 177.40666667, 178.40333333,\n",
       "        179.4       , 180.39666667, 181.39333333, 182.39      ,\n",
       "        183.38666667, 184.38333333, 185.38      , 186.37666667,\n",
       "        187.37333333, 188.37      , 189.36666667, 190.36333333,\n",
       "        191.36      , 192.35666667, 193.35333333, 194.35      ,\n",
       "        195.34666667, 196.34333333, 197.34      , 198.33666667,\n",
       "        199.33333333, 200.33      , 201.32666667, 202.32333333,\n",
       "        203.32      , 204.31666667, 205.31333333, 206.31      ,\n",
       "        207.30666667, 208.30333333, 209.3       , 210.29666667,\n",
       "        211.29333333, 212.29      , 213.28666667, 214.28333333,\n",
       "        215.28      , 216.27666667, 217.27333333, 218.27      ,\n",
       "        219.26666667, 220.26333333, 221.26      , 222.25666667,\n",
       "        223.25333333, 224.25      , 225.24666667, 226.24333333,\n",
       "        227.24      , 228.23666667, 229.23333333, 230.23      ,\n",
       "        231.22666667, 232.22333333, 233.22      , 234.21666667,\n",
       "        235.21333333, 236.21      , 237.20666667, 238.20333333,\n",
       "        239.2       , 240.19666667, 241.19333333, 242.19      ,\n",
       "        243.18666667, 244.18333333, 245.18      , 246.17666667,\n",
       "        247.17333333, 248.17      , 249.16666667, 250.16333333,\n",
       "        251.16      , 252.15666667, 253.15333333, 254.15      ,\n",
       "        255.14666667, 256.14333333, 257.14      , 258.13666667,\n",
       "        259.13333333, 260.13      , 261.12666667, 262.12333333,\n",
       "        263.12      , 264.11666667, 265.11333333, 266.11      ,\n",
       "        267.10666667, 268.10333333, 269.1       , 270.09666667,\n",
       "        271.09333333, 272.09      , 273.08666667, 274.08333333,\n",
       "        275.08      , 276.07666667, 277.07333333, 278.07      ,\n",
       "        279.06666667, 280.06333333, 281.06      , 282.05666667,\n",
       "        283.05333333, 284.05      , 285.04666667, 286.04333333,\n",
       "        287.04      , 288.03666667, 289.03333333, 290.03      ,\n",
       "        291.02666667, 292.02333333, 293.02      , 294.01666667,\n",
       "        295.01333333, 296.01      , 297.00666667, 298.00333333,\n",
       "        299.        ]),\n",
       " <a list of 300 Patch objects>)"
      ]
     },
     "execution_count": 16,
     "metadata": {},
     "output_type": "execute_result"
    },
    {
     "data": {
      "image/png": "[encoded data removed]",
      "text/plain": [
       "<matplotlib.figure.Figure at 0x139f8b278>"
      ]
     },
     "metadata": {},
     "output_type": "display_data"
    }
   ],
   "source": [
    "import matplotlib.pyplot as plt\n",
    "plt.hist(kmeans_res.labels_, bins=300)"
   ]
  },
  {
   "cell_type": "code",
   "execution_count": 43,
   "metadata": {},
   "outputs": [
    {
     "name": "stdout",
     "output_type": "stream",
     "text": [
      "[('憤怒', 0.7130043506622314), ('激昂', 0.687428891658783), ('憤激', 0.6846510171890259), ('怒り', 0.6807619333267212), ('憤る', 0.6691967844963074), ('驚愕', 0.6427136659622192), ('逆上', 0.6369041800498962), ('叱咤', 0.607385516166687), ('叱責', 0.6066831946372986), ('狼狽', 0.6062193512916565)]\n"
     ]
    }
   ],
   "source": [
    "w2vmodel = word2vec.Word2Vec.load(MODEL_PATH2)\n",
    "print(w2vmodel.wv.most_similar(positive=['激怒'], topn=10))"
   ]
  },
  {
   "cell_type": "code",
   "execution_count": 38,
   "metadata": {},
   "outputs": [
    {
     "name": "stdout",
     "output_type": "stream",
     "text": [
      "[('[メリアドク・ブランディバック]', 0.6494805812835693), ('ニルス', 0.6397469639778137), ('クローディオ', 0.6338703632354736), ('[ベルガリオン]', 0.624444842338562), ('[エオウィン]', 0.6243359446525574), ('ローハン', 0.62108314037323), ('アベル', 0.6190121173858643), ('アンジェリカ', 0.6186339259147644), ('エリサ', 0.6166181564331055), ('エルザ', 0.6157675385475159)]\n"
     ]
    }
   ],
   "source": [
    "from gensim.models import KeyedVectors\n",
    "#wiki_model = KeyedVectors.load_word2vec_format('./pickle_objects/entity_vector.model.bin', binary=True)\n",
    "print(wiki_model.wv.most_similar(positive=['メロス'], topn=10))"
   ]
  },
  {
   "cell_type": "code",
   "execution_count": 53,
   "metadata": {},
   "outputs": [
    {
     "name": "stdout",
     "output_type": "stream",
     "text": [
      "[('黄道吉日', 0.4538549482822418), ('メロス', 0.4192773997783661), ('真心', 0.41565418243408203), ('こそ', 0.41269564628601074), ('総統', 0.4102414846420288), ('政恒', 0.4036811888217926), ('潔い', 0.403376042842865), ('心から', 0.4014996588230133), ('生殺与奪の権', 0.40138477087020874), ('得度式', 0.3940085172653198)]\n"
     ]
    }
   ],
   "source": [
    "merosu = w2vmodel.wv['メロス']\n",
    "hashiru = w2vmodel.wv['走る']\n",
    "sub = merosu - hashiru\n",
    "print(w2vmodel.most_similar([sub]))"
   ]
  },
  {
   "cell_type": "code",
   "execution_count": null,
   "metadata": {},
   "outputs": [],
   "source": []
  }
 ],
 "metadata": {
  "kernelspec": {
   "display_name": "Python 3",
   "language": "python",
   "name": "python3"
  },
  "language_info": {
   "codemirror_mode": {
    "name": "ipython",
    "version": 3
   },
   "file_extension": ".py",
   "mimetype": "text/x-python",
   "name": "python",
   "nbconvert_exporter": "python",
   "pygments_lexer": "ipython3",
   "version": "3.6.1"
  }
 },
 "nbformat": 4,
 "nbformat_minor": 2
}
