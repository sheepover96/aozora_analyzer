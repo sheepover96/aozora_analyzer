{
 "cells": [
  {
   "cell_type": "code",
   "execution_count": 8,
   "metadata": {},
   "outputs": [
    {
     "name": "stdout",
     "output_type": "stream",
     "text": [
      "load\n"
     ]
    }
   ],
   "source": [
    "from gensim.models import word2vec\n",
    "\n",
    "import os, sys\n",
    "\n",
    "from utils.pickle_helper import pickle_load, pickle_dump\n",
    "from utils.tokenizers import tokenizer\n",
    "\n",
    "DATASET_DIR = './novels'\n",
    "MODEL_PATH = './pickle_objects/aozora_w2v.pickle'\n",
    "MODEL_PATH2 = './pickle_objects/aozora_w2v.model'\n",
    "\n",
    "model = pickle_load(MODEL_PATH)\n",
    "model.save(MODEL_PATH2)\n",
    "print('load')"
   ]
  },
  {
   "cell_type": "code",
   "execution_count": null,
   "metadata": {},
   "outputs": [],
   "source": []
  },
  {
   "cell_type": "code",
   "execution_count": 43,
   "metadata": {},
   "outputs": [
    {
     "name": "stdout",
     "output_type": "stream",
     "text": [
      "[('憤怒', 0.7130043506622314), ('激昂', 0.687428891658783), ('憤激', 0.6846510171890259), ('怒り', 0.6807619333267212), ('憤る', 0.6691967844963074), ('驚愕', 0.6427136659622192), ('逆上', 0.6369041800498962), ('叱咤', 0.607385516166687), ('叱責', 0.6066831946372986), ('狼狽', 0.6062193512916565)]\n"
     ]
    }
   ],
   "source": [
    "w2vmodel = word2vec.Word2Vec.load(MODEL_PATH2)\n",
    "print(w2vmodel.wv.most_similar(positive=['激怒'], topn=10))"
   ]
  },
  {
   "cell_type": "code",
   "execution_count": 38,
   "metadata": {},
   "outputs": [
    {
     "name": "stdout",
     "output_type": "stream",
     "text": [
      "[('[メリアドク・ブランディバック]', 0.6494805812835693), ('ニルス', 0.6397469639778137), ('クローディオ', 0.6338703632354736), ('[ベルガリオン]', 0.624444842338562), ('[エオウィン]', 0.6243359446525574), ('ローハン', 0.62108314037323), ('アベル', 0.6190121173858643), ('アンジェリカ', 0.6186339259147644), ('エリサ', 0.6166181564331055), ('エルザ', 0.6157675385475159)]\n"
     ]
    }
   ],
   "source": [
    "from gensim.models import KeyedVectors\n",
    "#wiki_model = KeyedVectors.load_word2vec_format('./pickle_objects/entity_vector.model.bin', binary=True)\n",
    "print(wiki_model.wv.most_similar(positive=['メロス'], topn=10))"
   ]
  },
  {
   "cell_type": "code",
   "execution_count": 53,
   "metadata": {},
   "outputs": [
    {
     "name": "stdout",
     "output_type": "stream",
     "text": [
      "[('黄道吉日', 0.4538549482822418), ('メロス', 0.4192773997783661), ('真心', 0.41565418243408203), ('こそ', 0.41269564628601074), ('総統', 0.4102414846420288), ('政恒', 0.4036811888217926), ('潔い', 0.403376042842865), ('心から', 0.4014996588230133), ('生殺与奪の権', 0.40138477087020874), ('得度式', 0.3940085172653198)]\n"
     ]
    }
   ],
   "source": [
    "merosu = w2vmodel.wv['メロス']\n",
    "hashiru = w2vmodel.wv['走る']\n",
    "sub = merosu - hashiru\n",
    "print(w2vmodel.most_similar([sub]))"
   ]
  },
  {
   "cell_type": "code",
   "execution_count": null,
   "metadata": {},
   "outputs": [],
   "source": []
  }
 ],
 "metadata": {
  "kernelspec": {
   "display_name": "Python 3",
   "language": "python",
   "name": "python3"
  },
  "language_info": {
   "codemirror_mode": {
    "name": "ipython",
    "version": 3
   },
   "file_extension": ".py",
   "mimetype": "text/x-python",
   "name": "python",
   "nbconvert_exporter": "python",
   "pygments_lexer": "ipython3",
   "version": "3.6.1"
  }
 },
 "nbformat": 4,
 "nbformat_minor": 2
}
